{
  "nbformat": 4,
  "nbformat_minor": 0,
  "metadata": {
    "colab": {
      "name": "NumPyUltraQuickTutorial.ipynb",
      "provenance": []
    },
    "kernelspec": {
      "name": "python3",
      "display_name": "Python 3"
    },
    "language_info": {
      "name": "python"
    }
  },
  "cells": [
    {
      "cell_type": "code",
      "execution_count": 3,
      "metadata": {
        "id": "xIYkI3EMKeRl"
      },
      "outputs": [],
      "source": [
        "import numpy as np"
      ]
    },
    {
      "cell_type": "code",
      "source": [
        "one_dimensional_array = np.array([1.2, 2.4, 3.5, 4.7, 6.1, 7.2, 8.3, 9.5])\n",
        "print(one_dimensional_array)"
      ],
      "metadata": {
        "colab": {
          "base_uri": "https://localhost:8080/"
        },
        "id": "fTOqV2eRKoEC",
        "outputId": "c9ed6fae-eac6-4605-b850-b3160fb9245c"
      },
      "execution_count": 12,
      "outputs": [
        {
          "output_type": "stream",
          "name": "stdout",
          "text": [
            "[1.2 2.4 3.5 4.7 6.1 7.2 8.3 9.5]\n"
          ]
        }
      ]
    },
    {
      "cell_type": "code",
      "source": [
        "two_dimensional_array = np.array([[6, 5], [11, 7], [4, 8]])\n",
        "print(two_dimensional_array)"
      ],
      "metadata": {
        "colab": {
          "base_uri": "https://localhost:8080/"
        },
        "id": "52uUhwJtKtZg",
        "outputId": "253aecdd-3a6d-4099-d634-1121976f3af2"
      },
      "execution_count": 6,
      "outputs": [
        {
          "output_type": "stream",
          "name": "stdout",
          "text": [
            "[[ 6  5]\n",
            " [11  7]\n",
            " [ 4  8]]\n"
          ]
        }
      ]
    },
    {
      "cell_type": "markdown",
      "source": [
        "**(1,7) dersek diziye 1,2,3,4,5,6 ekler ama y yi eklemez!!!**"
      ],
      "metadata": {
        "id": "WGrk6Tk-QIQZ"
      }
    },
    {
      "cell_type": "code",
      "source": [
        "sequence_of_integers = np.arange(5, 12)\n",
        "print(sequence_of_integers)"
      ],
      "metadata": {
        "colab": {
          "base_uri": "https://localhost:8080/"
        },
        "id": "n3Ed4HTfLlgA",
        "outputId": "04458d01-92d8-43ae-c0c4-94c2067ebe43"
      },
      "execution_count": 7,
      "outputs": [
        {
          "output_type": "stream",
          "name": "stdout",
          "text": [
            "[ 5  6  7  8  9 10 11]\n"
          ]
        }
      ]
    },
    {
      "cell_type": "markdown",
      "source": [
        "**50 ve 101 arasında 6 tane random integer sayı oluşturmak için;**"
      ],
      "metadata": {
        "id": "jfjhgQM9QYY6"
      }
    },
    {
      "cell_type": "code",
      "source": [
        "random_integers_between_50_and_100 = np.random.randint(low=50, high=101, size=(6))\n",
        "print(random_integers_between_50_and_100)"
      ],
      "metadata": {
        "colab": {
          "base_uri": "https://localhost:8080/"
        },
        "id": "L4cW4lFCLpcg",
        "outputId": "29958bf2-feb1-46a0-89a1-401a34be8013"
      },
      "execution_count": 8,
      "outputs": [
        {
          "output_type": "stream",
          "name": "stdout",
          "text": [
            "[50 92 85 99 63 73]\n"
          ]
        }
      ]
    },
    {
      "cell_type": "markdown",
      "source": [
        "**0 ve 1 arasında float 6 tane sayı oluşturmak için;**"
      ],
      "metadata": {
        "id": "Do_DqRsVSi77"
      }
    },
    {
      "cell_type": "code",
      "source": [
        "random_floats_between_0_and_1 = np.random.random([6])\n",
        "print(random_floats_between_0_and_1) "
      ],
      "metadata": {
        "colab": {
          "base_uri": "https://localhost:8080/"
        },
        "id": "fu9gelEvLsD9",
        "outputId": "f8962817-2142-45e7-bb20-9710f503b480"
      },
      "execution_count": 9,
      "outputs": [
        {
          "output_type": "stream",
          "name": "stdout",
          "text": [
            "[0.13368012 0.31497928 0.53947106 0.44136157 0.68904532 0.93091707]\n"
          ]
        }
      ]
    },
    {
      "cell_type": "markdown",
      "source": [
        "**yukarda oluşturduğumuz float 6 tane sayıyı 2 ile topladık ve 2 ve 3 arasında random 6 sayı elde ettik**"
      ],
      "metadata": {
        "id": "fpbWTs8ESzbt"
      }
    },
    {
      "cell_type": "code",
      "source": [
        "random_floats_between_2_and_3 = random_floats_between_0_and_1 + 2.0\n",
        "print(random_floats_between_2_and_3)"
      ],
      "metadata": {
        "colab": {
          "base_uri": "https://localhost:8080/"
        },
        "id": "dFkpgQ1kLwb4",
        "outputId": "bb24085b-a6cd-4b37-d7de-7a8b8d254a79"
      },
      "execution_count": 10,
      "outputs": [
        {
          "output_type": "stream",
          "name": "stdout",
          "text": [
            "[2.13368012 2.31497928 2.53947106 2.44136157 2.68904532 2.93091707]\n"
          ]
        }
      ]
    },
    {
      "cell_type": "markdown",
      "source": [
        "**50 ve 100 arasında oluşturulan random sayıları 3 ile çarparak 150 ve 300 arasında random sayılar elde ettik**"
      ],
      "metadata": {
        "id": "G7mT6VzMUZr3"
      }
    },
    {
      "cell_type": "code",
      "source": [
        "random_integers_between_150_and_300 = random_integers_between_50_and_100 * 3\n",
        "print(random_integers_between_150_and_300)"
      ],
      "metadata": {
        "colab": {
          "base_uri": "https://localhost:8080/"
        },
        "id": "0Rk8XHzXL1LC",
        "outputId": "9e351535-4dd0-4026-f572-bcdfca7267f6"
      },
      "execution_count": 11,
      "outputs": [
        {
          "output_type": "stream",
          "name": "stdout",
          "text": [
            "[150 276 255 297 189 219]\n"
          ]
        }
      ]
    },
    {
      "cell_type": "markdown",
      "source": [
        "**TASK1 Create a Linear Dataset**\n",
        "\n"
      ],
      "metadata": {
        "id": "LysPuUSFNnzp"
      }
    },
    {
      "cell_type": "markdown",
      "source": [
        "6 ve 20 arasında sayılardan oluşan dizi(20 dahil);"
      ],
      "metadata": {
        "id": "c6kG6VpnVqvC"
      }
    },
    {
      "cell_type": "code",
      "source": [
        "feature = np.arange(6,21)\n",
        "print(feature)"
      ],
      "metadata": {
        "colab": {
          "base_uri": "https://localhost:8080/"
        },
        "id": "YxYlHsbUNmyI",
        "outputId": "24d93c1d-d575-4020-9bf0-883b2c4ae50e"
      },
      "execution_count": 21,
      "outputs": [
        {
          "output_type": "stream",
          "name": "stdout",
          "text": [
            "[ 6  7  8  9 10 11 12 13 14 15 16 17 18 19 20]\n"
          ]
        }
      ]
    },
    {
      "cell_type": "markdown",
      "source": [
        "label=3*feature+4"
      ],
      "metadata": {
        "id": "E0SLdFsCWtsi"
      }
    },
    {
      "cell_type": "code",
      "source": [
        "label = 3*feature+4\n",
        "print(label)"
      ],
      "metadata": {
        "colab": {
          "base_uri": "https://localhost:8080/"
        },
        "id": "1Lr33QWTXCWw",
        "outputId": "9ef14d8d-91b8-473a-8f59-ee47b11a5c41"
      },
      "execution_count": 22,
      "outputs": [
        {
          "output_type": "stream",
          "name": "stdout",
          "text": [
            "[22 25 28 31 34 37 40 43 46 49 52 55 58 61 64]\n"
          ]
        }
      ]
    },
    {
      "cell_type": "markdown",
      "source": [
        "**TASK2 Add Some Noise to the Dataset**"
      ],
      "metadata": {
        "id": "xQsWFVfFY00P"
      }
    },
    {
      "cell_type": "code",
      "source": [
        "noise = (np.random.random([15]) * 4) - 2\n",
        "print(noise)\n",
        "label = label + noise \n",
        "print(label)"
      ],
      "metadata": {
        "colab": {
          "base_uri": "https://localhost:8080/"
        },
        "id": "fODl5u8FaFeE",
        "outputId": "dd7ef918-7f7a-4cb5-8353-4354af35bb44"
      },
      "execution_count": 23,
      "outputs": [
        {
          "output_type": "stream",
          "name": "stdout",
          "text": [
            "[-1.58286416e+00  1.36259851e-01  1.70501657e+00  1.08442078e+00\n",
            "  1.53745460e+00 -9.68305577e-02  4.05079302e-01  6.01439260e-01\n",
            "  3.31316668e-04 -2.31962566e-01  1.49538339e+00  5.95023206e-02\n",
            "  5.77465314e-02  5.46588797e-01  3.47828996e-01]\n",
            "[20.41713584 25.13625985 29.70501657 32.08442078 35.5374546  36.90316944\n",
            " 40.4050793  43.60143926 46.00033132 48.76803743 53.49538339 55.05950232\n",
            " 58.05774653 61.5465888  64.347829  ]\n"
          ]
        }
      ]
    }
  ]
}