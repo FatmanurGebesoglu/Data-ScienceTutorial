{
  "nbformat": 4,
  "nbformat_minor": 0,
  "metadata": {
    "colab": {
      "name": "week7.ipynb",
      "provenance": []
    },
    "kernelspec": {
      "name": "python3",
      "display_name": "Python 3"
    },
    "language_info": {
      "name": "python"
    }
  },
  "cells": [
    {
      "cell_type": "code",
      "execution_count": 1,
      "metadata": {
        "colab": {
          "base_uri": "https://localhost:8080/",
          "height": 334
        },
        "id": "7RqjBBvmG39_",
        "outputId": "35835bd9-02a1-44cd-a95d-7e5c4cfc3df2"
      },
      "outputs": [
        {
          "output_type": "display_data",
          "data": {
            "text/plain": [
              "<Figure size 576x360 with 1 Axes>"
            ],
            "image/png": "[encoded data removed]"
          },
          "metadata": {
            "needs_background": "light"
          }
        }
      ],
      "source": [
        "import numpy as np\n",
        "import matplotlib.pyplot as plt\n",
        "from sklearn.datasets import make_regression\n",
        "\n",
        "# Generate a regression problem\n",
        "X, y = make_regression(\n",
        "    n_samples=100,\n",
        "    n_features=2,\n",
        "    n_informative=2,\n",
        "    noise = 10,\n",
        "    random_state=25\n",
        "    )\n",
        "\n",
        "# Visualize feature at index 1 vs target\n",
        "plt.subplots(figsize=(8, 5))\n",
        "plt.scatter(X[:, 1], y, marker='o')\n",
        "plt.xlabel(\"Feature at Index 1\")\n",
        "plt.ylabel(\"Target\")\n",
        "plt.show()"
      ]
    },
    {
      "cell_type": "code",
      "source": [
        "# adds x0 = 1 to each instance\n",
        "X_b = np.concatenate([np.ones((len(X), 1)), X], axis=1)\n",
        "# calculate normal equation\n",
        "theta_best = np.linalg.inv(X_b.T.dot(X_b)).dot(X_b.T).dot(y)\n",
        "# best values for theta\n",
        "intercept, *coef = theta_best\n",
        "print(f\"Intercept: {intercept}\\n\\\n",
        "Coefficients: {coef}\")\n"
      ],
      "metadata": {
        "colab": {
          "base_uri": "https://localhost:8080/"
        },
        "id": "9WN4_LJjG_vG",
        "outputId": "efc15815-51b2-41f3-b355-07a119f10e01"
      },
      "execution_count": 2,
      "outputs": [
        {
          "output_type": "stream",
          "name": "stdout",
          "text": [
            "Intercept: 0.35921242677977794\n",
            "Coefficients: [6.129199175400593, 96.44309685893134]\n"
          ]
        }
      ]
    },
    {
      "cell_type": "code",
      "source": [
        "# making a new sample\n",
        "new_sample = np.array([[-2, 0.25]])\n",
        "# adding a bias term to the instance\n",
        "new_sample_b = np.concatenate([np.ones((len(new_sample), 1)), new_sample], axis=1)\n",
        "# predicting the value of our new sample\n",
        "new_sample_pred = new_sample_b.dot(theta_best)\n",
        "print(f\"Prediction: {new_sample_pred}\")"
      ],
      "metadata": {
        "colab": {
          "base_uri": "https://localhost:8080/"
        },
        "id": "VAhCqsZVHIb3",
        "outputId": "abcb5681-4949-487d-8208-85232c532112"
      },
      "execution_count": 3,
      "outputs": [
        {
          "output_type": "stream",
          "name": "stdout",
          "text": [
            "Prediction: [12.21158829]\n"
          ]
        }
      ]
    },
    {
      "cell_type": "code",
      "source": [
        "from sklearn.linear_model import LinearRegression\n",
        "\n",
        "lr = LinearRegression()\n",
        "lr.fit(X, y)\n",
        "\n",
        "print(f\"Intercept: {lr.intercept_}\\n\\\n",
        "Coefficients: {lr.coef_}\")\n",
        "print(f\"Prediction: {lr.predict(new_sample)}\")"
      ],
      "metadata": {
        "colab": {
          "base_uri": "https://localhost:8080/"
        },
        "id": "DJfSBqsKHKvM",
        "outputId": "c4d36549-b4b3-4d4d-907f-949426ba9944"
      },
      "execution_count": 4,
      "outputs": [
        {
          "output_type": "stream",
          "name": "stdout",
          "text": [
            "Intercept: 0.3592124267797807\n",
            "Coefficients: [ 6.12919918 96.44309686]\n",
            "Prediction: [12.21158829]\n"
          ]
        }
      ]
    },
    {
      "cell_type": "code",
      "source": [
        ""
      ],
      "metadata": {
        "id": "QsOb3DOzHPc7"
      },
      "execution_count": null,
      "outputs": []
    }
  ]
}